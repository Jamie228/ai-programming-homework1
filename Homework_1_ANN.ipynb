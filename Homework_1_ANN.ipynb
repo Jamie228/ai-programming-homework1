{
  "nbformat": 4,
  "nbformat_minor": 0,
  "metadata": {
    "colab": {
      "name": "Homework 1 - ANN.ipynb",
      "provenance": [],
      "collapsed_sections": []
    },
    "kernelspec": {
      "name": "python3",
      "display_name": "Python 3"
    },
    "accelerator": "GPU"
  },
  "cells": [
    {
      "cell_type": "markdown",
      "metadata": {
        "id": "s096k1fN428R"
      },
      "source": [
        "## **Using an Artificial Neural Network to Calculate the Circumference of a Circle Given the Radius using the Formula: $πd$**\n",
        "---\n",
        "\n"
      ]
    },
    {
      "cell_type": "markdown",
      "metadata": {
        "id": "SwFebPQC7B8F"
      },
      "source": [
        "## Import Dependencies"
      ]
    },
    {
      "cell_type": "code",
      "metadata": {
        "id": "nkfJZaa84wYd"
      },
      "source": [
        "from __future__ import absolute_import, division, print_function, unicode_literals\n",
        "import tensorflow as tf\n",
        "\n",
        "import numpy as np"
      ],
      "execution_count": 136,
      "outputs": []
    },
    {
      "cell_type": "markdown",
      "metadata": {
        "id": "A4aLRZSi8AxQ"
      },
      "source": [
        "##Create Training Data"
      ]
    },
    {
      "cell_type": "code",
      "metadata": {
        "id": "tfNqCfbz7ADl"
      },
      "source": [
        "diameter_q = np.array([5, 10, 12, 18, 22, 27], dtype=float)\n",
        "circumference_a = np.array([15.7079632679, 31.4159265359, 37.6991118431, 56.5486677646, 69.115038379, 84.8230016469], dtype=float)"
      ],
      "execution_count": 137,
      "outputs": []
    },
    {
      "cell_type": "markdown",
      "metadata": {
        "id": "GdJ_YTDxc1Am"
      },
      "source": [
        "##Create Layers"
      ]
    },
    {
      "cell_type": "code",
      "metadata": {
        "id": "IEYX2P7xc3zs"
      },
      "source": [
        "l0 = tf.keras.layers.Dense(units=3, input_shape=[1])\n",
        "l1 = tf.keras.layers.Dense(units=1)"
      ],
      "execution_count": 138,
      "outputs": []
    },
    {
      "cell_type": "markdown",
      "metadata": {
        "id": "uJERWxfbdl5k"
      },
      "source": [
        "##Create and Train Model"
      ]
    },
    {
      "cell_type": "code",
      "metadata": {
        "id": "DrIJbK83doCN"
      },
      "source": [
        "model = tf.keras.Sequential([l0, l1])"
      ],
      "execution_count": 139,
      "outputs": []
    },
    {
      "cell_type": "code",
      "metadata": {
        "id": "k5Txr0Cud87-"
      },
      "source": [
        "model.compile(loss='mean_squared_error',\n",
        "              optimizer = tf.keras.optimizers.Adam(0.1))"
      ],
      "execution_count": 140,
      "outputs": []
    },
    {
      "cell_type": "code",
      "metadata": {
        "id": "GCqMPFDpeSLm",
        "outputId": "dec20e11-b68b-4375-f153-48a1332ddbba",
        "colab": {
          "base_uri": "https://localhost:8080/",
          "height": 34
        }
      },
      "source": [
        "history = model.fit(diameter_q, circumference_a, epochs=800, verbose=False)\n",
        "print(\"Training Complete\")"
      ],
      "execution_count": 141,
      "outputs": [
        {
          "output_type": "stream",
          "text": [
            "Training Complete\n"
          ],
          "name": "stdout"
        }
      ]
    },
    {
      "cell_type": "markdown",
      "metadata": {
        "id": "ulqdErzae9hf"
      },
      "source": [
        "##Statistics"
      ]
    },
    {
      "cell_type": "code",
      "metadata": {
        "id": "ku2-3diZfBX2",
        "outputId": "7167323a-259f-44e7-abf5-feb062b11b8b",
        "colab": {
          "base_uri": "https://localhost:8080/",
          "height": 296
        }
      },
      "source": [
        "import matplotlib.pyplot as plt\n",
        "plt.xlabel('Epoch Number')\n",
        "plt.ylabel('Loss Magnitude')\n",
        "plt.plot(history.history['loss'])"
      ],
      "execution_count": 142,
      "outputs": [
        {
          "output_type": "execute_result",
          "data": {
            "text/plain": [
              "[<matplotlib.lines.Line2D at 0x7fdc5e0d6320>]"
            ]
          },
          "metadata": {
            "tags": []
          },
          "execution_count": 142
        },
        {
          "output_type": "display_data",
          "data": {
            "image/png": "[encoded data removed]",
            "text/plain": [
              "<Figure size 432x288 with 1 Axes>"
            ]
          },
          "metadata": {
            "tags": [],
            "needs_background": "light"
          }
        }
      ]
    },
    {
      "cell_type": "markdown",
      "metadata": {
        "id": "8GrsOFcjfJ4O"
      },
      "source": [
        "##Predict"
      ]
    },
    {
      "cell_type": "code",
      "metadata": {
        "id": "YolRtqvYfML-",
        "outputId": "45304e0a-02c0-4378-8cd2-693e2b2e6461",
        "colab": {
          "base_uri": "https://localhost:8080/",
          "height": 70
        }
      },
      "source": [
        "print(model.predict([30]))\n",
        "#94.2477796077 expected"
      ],
      "execution_count": 143,
      "outputs": [
        {
          "output_type": "stream",
          "text": [
            "WARNING:tensorflow:11 out of the last 11 calls to <function Model.make_predict_function.<locals>.predict_function at 0x7fdc5e110158> triggered tf.function retracing. Tracing is expensive and the excessive number of tracings could be due to (1) creating @tf.function repeatedly in a loop, (2) passing tensors with different shapes, (3) passing Python objects instead of tensors. For (1), please define your @tf.function outside of the loop. For (2), @tf.function has experimental_relax_shapes=True option that relaxes argument shapes that can avoid unnecessary retracing. For (3), please refer to https://www.tensorflow.org/tutorials/customization/performance#python_or_tensor_args and https://www.tensorflow.org/api_docs/python/tf/function for  more details.\n",
            "[[94.24777]]\n"
          ],
          "name": "stdout"
        }
      ]
    },
    {
      "cell_type": "markdown",
      "metadata": {
        "id": "bNpRGqHhYoHI"
      },
      "source": [
        "##Layer Weights"
      ]
    },
    {
      "cell_type": "code",
      "metadata": {
        "id": "572HaRdwYv6B",
        "outputId": "46e1de0d-0721-48c2-9192-8ec5d7c4918b",
        "colab": {
          "base_uri": "https://localhost:8080/",
          "height": 151
        }
      },
      "source": [
        "print(\"These are the layer 1 variables: {}\".format(l0.get_weights()))\n",
        "print(\"These are the layer 2 variables: {}\".format(l1.get_weights()))\n",
        "print(\"These are the layer 3 variables: {}\".format(l2.get_weights()))"
      ],
      "execution_count": 144,
      "outputs": [
        {
          "output_type": "stream",
          "text": [
            "These are the layer 1 variables: [array([[-1.0975189 , -0.82200664,  0.7345438 ]], dtype=float32), array([-0.5050462,  1.0959647, -1.0598402], dtype=float32)]\n",
            "These are the layer 2 variables: [array([[-1.7543936 ],\n",
            "       [-0.79343927],\n",
            "       [ 0.76768684]], dtype=float32), array([0.79716444], dtype=float32)]\n",
            "These are the layer 3 variables: [array([[-0.7503731 ],\n",
            "       [-0.38571623],\n",
            "       [ 0.45382953],\n",
            "       [ 0.27721834]], dtype=float32), array([1.0476363], dtype=float32)]\n"
          ],
          "name": "stdout"
        }
      ]
    },
    {
      "cell_type": "markdown",
      "metadata": {
        "id": "ah1JFAIOaHSL"
      },
      "source": [
        "##Conclusion\n",
        "Following the tweaking of the NN above to produce an accurate result and experiementing with other possible formulas for it to discover, it is clear that it is much easier for a NN to determine a missing constant as opposed to performing operations on the number being entered into the NN (e.g. squaring/cubing)."
      ]
    }
  ]
}